{
  "nbformat": 4,
  "nbformat_minor": 0,
  "metadata": {
    "colab": {
      "provenance": []
    },
    "kernelspec": {
      "name": "python3",
      "display_name": "Python 3"
    },
    "language_info": {
      "name": "python"
    }
  },
  "cells": [
    {
      "cell_type": "markdown",
      "source": [
        "# Birthday paradox"
      ],
      "metadata": {
        "id": "9IF3bW0jWwjq"
      }
    },
    {
      "cell_type": "markdown",
      "source": [
        "Python script to compute relevant birthday paradox calculations through equations and Monte Carlo simulations\n",
        "\n",
        "The probability of each birthday is assumed equally.\n",
        "\n",
        "For additional details, please refer to the GitHub repository: https://github.com/javiermardelrio/BirthdayParadox"
      ],
      "metadata": {
        "id": "2xZBAoyDW7M5"
      }
    },
    {
      "cell_type": "code",
      "source": [
        "#@markdown # Input parameters\n",
        "#@markdown\n",
        "#@markdown - Number of **people** in a group (n)\n",
        "n = 23 #@param {type:\"integer\"}\n",
        "#@markdown - Number of **days** in a year (d)\n",
        "d = 365 # @param {type:\"integer\"}\n",
        "#@markdown - Number of **simulations** (s)\n",
        "s = 1000 # @param {type:\"integer\"}"
      ],
      "metadata": {
        "cellView": "form",
        "id": "Me91ThYaXPgF"
      },
      "execution_count": null,
      "outputs": []
    },
    {
      "cell_type": "code",
      "source": [
        "#@markdown # Probability using equations\n",
        "\n",
        "\n",
        "# Calculate the probability of no shared birthdays\n",
        "probability_not_shared = 1.0\n",
        "for i in range(1, n+1):\n",
        "    probability_not_shared *= (d + 1 - i) / d\n",
        "\n",
        "# Calculate the probability of at least one shared birthday\n",
        "probability_shared  = 1 - probability_not_shared\n",
        "\n",
        "# Expected number of people with unique birthdays\n",
        "expected_unique_birthdays = n*(1-1/d)**(n-1)\n",
        "\n",
        "# Expected number of people with shared birthdays (collisions)\n",
        "expected_shared_birthdays = n - expected_unique_birthdays\n",
        "\n",
        "\n",
        "\n",
        "# Print the result\n",
        "print(f'For a group size of {n} people:')\n",
        "print(f'\\tProbability of not shared birthdays in the group = {probability_not_shared :.9f}')\n",
        "print(f'\\tProbability of at least one shared birthday = {probability_shared :.9f}')\n",
        "print(f'\\tExpected number of people with unique birthdays = {expected_unique_birthdays :.2f}')\n",
        "print(f'\\tExpected number of people with shared birthdays = {expected_shared_birthdays :.2f}')\n"
      ],
      "metadata": {
        "colab": {
          "base_uri": "https://localhost:8080/"
        },
        "cellView": "form",
        "id": "Su7ns2bOYDPf",
        "outputId": "0b9c59df-3039-4673-9b2f-376fdc4f93cd"
      },
      "execution_count": null,
      "outputs": [
        {
          "output_type": "stream",
          "name": "stdout",
          "text": [
            "For a group size of 23 people:\n",
            "\tProbability of not shared birthdays in the group = 0.492702766\n",
            "\tProbability of at least one shared birthday = 0.507297234\n",
            "\tExpected number of people with unique birthdays = 21.65\n",
            "\tExpected number of people with shared birthdays = 1.35\n"
          ]
        }
      ]
    },
    {
      "cell_type": "code",
      "source": [
        "#@markdown # Probability using Monte Carlo simulations\n",
        "\n",
        "\n",
        "import random\n",
        "from collections import Counter\n",
        "from tqdm import tqdm\n",
        "\n",
        "def count_shared_birthdays(birthday_list):\n",
        "    count = Counter(birthday_list)\n",
        "    # Count how many people share a birthday\n",
        "    shared_count = sum(count for count in count.values() if count > 1)\n",
        "    return shared_count\n",
        "\n",
        "\n",
        "shared_birthdays = []\n",
        "# Loop with progress bar\n",
        "for simulation in tqdm(range(s), desc=\"Simulations\"):\n",
        "    # Create a group of n people with random birthdays\n",
        "    birthday_list = [random.randint(1, d) for person in range(n)]\n",
        "    # Count how many people share a birthday\n",
        "    shared = count_shared_birthdays(birthday_list)\n",
        "    shared_birthdays.append(shared)\n",
        "\n",
        "# Calculate the probability of at least one shared birthday\n",
        "num_groups_with_shared = sum(1 for x in shared_birthdays if x > 0)\n",
        "prob_shared = num_groups_with_shared / s\n",
        "prob_no_shared = 1 - prob_shared\n",
        "\n",
        "# Expected number of people with shared and unique birthdays\n",
        "expected_shared = sum(shared_birthdays) / s\n",
        "expected_unique = n - expected_shared\n",
        "\n",
        "# Print the result\n",
        "print(\"\")\n",
        "print(f'For a group size of {n} people:')\n",
        "print(f'\\tProbability of not shared birthdays in the group = {prob_no_shared:.9f}')\n",
        "print(f'\\tProbability of at least one shared birthday = {prob_shared:.9f}')\n",
        "print(f'\\tExpected number of people with unique birthdays = {expected_unique:.2f}')\n",
        "print(f'\\tExpected number of people with shared birthdays = {expected_shared:.2f}')\n",
        "\n",
        "\n",
        "\n",
        "\n",
        "\n"
      ],
      "metadata": {
        "colab": {
          "base_uri": "https://localhost:8080/"
        },
        "cellView": "form",
        "id": "bpF_aFqDekRe",
        "outputId": "e83012e0-737b-4d24-e68f-1fc0482b02b2"
      },
      "execution_count": null,
      "outputs": [
        {
          "output_type": "stream",
          "name": "stderr",
          "text": [
            "Simulations: 100%|██████████| 1000/1000 [00:00<00:00, 32694.18it/s]"
          ]
        },
        {
          "output_type": "stream",
          "name": "stdout",
          "text": [
            "\n",
            "For a group size of 23 people:\n",
            "\tProbability of not shared birthdays in the group = 0.475000000\n",
            "\tProbability of at least one shared birthday = 0.525000000\n",
            "\tExpected number of people with unique birthdays = 21.62\n",
            "\tExpected number of people with shared birthdays = 1.38\n"
          ]
        },
        {
          "output_type": "stream",
          "name": "stderr",
          "text": [
            "\n"
          ]
        }
      ]
    }
  ]
}